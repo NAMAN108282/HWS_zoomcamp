{
 "cells": [
  {
   "cell_type": "code",
   "execution_count": null,
   "id": "4a6fd426-88c0-4724-9e24-760331f094bf",
   "metadata": {},
   "outputs": [],
   "source": [
    "!wget https://github.com/DataTalksClub/nyc-tlc-data/releases/download/green/green_tripdata_2019-09.csv.gz"
   ]
  },
  {
   "cell_type": "code",
   "execution_count": null,
   "id": "9004a431-c6a4-4937-bddc-c9c54e1f3805",
   "metadata": {},
   "outputs": [],
   "source": [
    "!wget https://s3.amazonaws.com/nyc-tlc/misc/taxi+_zone_lookup.csv"
   ]
  },
  {
   "cell_type": "code",
   "execution_count": 9,
   "id": "913d7d14-edbb-48e9-a270-4649fd100f7e",
   "metadata": {},
   "outputs": [],
   "source": [
    "!gzip -d green_tripdata_2019-09.csv.gz"
   ]
  },
  {
   "cell_type": "code",
   "execution_count": 10,
   "id": "1614028e-93b3-4bd5-8c91-8d5039f72017",
   "metadata": {},
   "outputs": [
    {
     "name": "stdout",
     "output_type": "stream",
     "text": [
      "green_tripdata_2019-09.csv  HW1.ipynb  taxi+_zone_lookup.csv\n"
     ]
    }
   ],
   "source": [
    "!ls"
   ]
  },
  {
   "cell_type": "code",
   "execution_count": 11,
   "id": "8dd87535-10bc-4972-9170-eca84d4c19ee",
   "metadata": {},
   "outputs": [],
   "source": [
    "from pyspark.sql import SparkSession"
   ]
  },
  {
   "cell_type": "code",
   "execution_count": 13,
   "id": "2afab0dc-30ae-4bb5-a395-f89971722fa3",
   "metadata": {},
   "outputs": [],
   "source": [
    "spark = SparkSession.builder\\\n",
    "    .master(\"local[*]\")\\\n",
    "    .appName(\"main\")\\\n",
    "    .config(\"spark.dynamicAllocation.enabled\", \"true\")\\\n",
    "    .config(\"spark.shuffle.service.enabled\", \"true\")\\\n",
    "    .getOrCreate()"
   ]
  },
  {
   "cell_type": "code",
   "execution_count": 17,
   "id": "ed67596f-b3c1-404f-bfdf-0716566c78d1",
   "metadata": {},
   "outputs": [],
   "source": [
    "green_taxi = spark.read.csv(\"green_tripdata_2019-09.csv\", header=\"true\", inferSchema=\"true\")"
   ]
  },
  {
   "cell_type": "code",
   "execution_count": 20,
   "id": "cd547101-373f-4b08-b8cd-0bf9142468c1",
   "metadata": {},
   "outputs": [
    {
     "name": "stdout",
     "output_type": "stream",
     "text": [
      "root\n",
      " |-- VendorID: integer (nullable = true)\n",
      " |-- lpep_pickup_datetime: string (nullable = true)\n",
      " |-- lpep_dropoff_datetime: string (nullable = true)\n",
      " |-- store_and_fwd_flag: string (nullable = true)\n",
      " |-- RatecodeID: integer (nullable = true)\n",
      " |-- PULocationID: integer (nullable = true)\n",
      " |-- DOLocationID: integer (nullable = true)\n",
      " |-- passenger_count: integer (nullable = true)\n",
      " |-- trip_distance: double (nullable = true)\n",
      " |-- fare_amount: double (nullable = true)\n",
      " |-- extra: double (nullable = true)\n",
      " |-- mta_tax: double (nullable = true)\n",
      " |-- tip_amount: double (nullable = true)\n",
      " |-- tolls_amount: double (nullable = true)\n",
      " |-- ehail_fee: string (nullable = true)\n",
      " |-- improvement_surcharge: double (nullable = true)\n",
      " |-- total_amount: double (nullable = true)\n",
      " |-- payment_type: integer (nullable = true)\n",
      " |-- trip_type: integer (nullable = true)\n",
      " |-- congestion_surcharge: double (nullable = true)\n",
      "\n",
      "None\n"
     ]
    }
   ],
   "source": [
    "print(green_taxi.printSchema())"
   ]
  },
  {
   "cell_type": "code",
   "execution_count": 21,
   "id": "d48385fe-55e9-4fe6-9b9f-21dfd41725ec",
   "metadata": {},
   "outputs": [],
   "source": [
    "from pyspark.sql.types import *"
   ]
  },
  {
   "cell_type": "code",
   "execution_count": 29,
   "id": "8aba268b-6aec-4294-a1ad-2f59c732bb1c",
   "metadata": {},
   "outputs": [],
   "source": [
    "green_taxi =  green_taxi.withColumn(\"lpep_pickup_datetime\",green_taxi[\"lpep_pickup_datetime\"].cast(TimestampType())) \\\n",
    "                .withColumn(\"lpep_dropoff_datetime\",green_taxi[\"lpep_dropoff_datetime\"].cast(TimestampType()))                "
   ]
  },
  {
   "cell_type": "code",
   "execution_count": 68,
   "id": "ab39970b-8aad-4076-bfc8-1d444df250f9",
   "metadata": {},
   "outputs": [],
   "source": [
    "trip_largest = green_taxi.orderBy(\"trip_distance\", ascending = False).first()"
   ]
  },
  {
   "cell_type": "code",
   "execution_count": 69,
   "id": "ecf4cb2e-cc0f-481d-967d-5cbf8d9c86f3",
   "metadata": {},
   "outputs": [
    {
     "name": "stdout",
     "output_type": "stream",
     "text": [
      "Row(VendorID=2, lpep_pickup_datetime=datetime.datetime(2019, 9, 26, 19, 32, 52), lpep_dropoff_datetime=datetime.datetime(2019, 9, 27, 1, 50, 27), store_and_fwd_flag='N', RatecodeID=4, PULocationID=265, DOLocationID=16, passenger_count=1, trip_distance=341.64, fare_amount=1761.0, extra=1.0, mta_tax=0.5, tip_amount=0.0, tolls_amount=0.0, ehail_fee=None, improvement_surcharge=0.3, total_amount=1762.8, payment_type=2, trip_type=1, congestion_surcharge=0.0)\n"
     ]
    }
   ],
   "source": [
    "print(trip_largest)"
   ]
  },
  {
   "cell_type": "code",
   "execution_count": 63,
   "id": "5e70b732-2710-4f94-b3c6-77ea8dc55ffa",
   "metadata": {},
   "outputs": [],
   "source": [
    "df_date = green_taxi.where(datediff(green_taxi[\"lpep_pickup_datetime\"], lit(\"2019-09-18 00:00:00\")) == 0).where(datediff(green_taxi[\"lpep_dropoff_datetime\"], lit(\"2019-09-18 00:00:00\"))== 0).count()"
   ]
  },
  {
   "cell_type": "code",
   "execution_count": 64,
   "id": "9692b698-ad6d-4e49-863d-e577ee2344a1",
   "metadata": {},
   "outputs": [
    {
     "name": "stdout",
     "output_type": "stream",
     "text": [
      "15612\n"
     ]
    }
   ],
   "source": [
    "print(df_date)"
   ]
  }
 ],
 "metadata": {
  "kernelspec": {
   "display_name": "Python 3 (ipykernel)",
   "language": "python",
   "name": "python3"
  },
  "language_info": {
   "codemirror_mode": {
    "name": "ipython",
    "version": 3
   },
   "file_extension": ".py",
   "mimetype": "text/x-python",
   "name": "python",
   "nbconvert_exporter": "python",
   "pygments_lexer": "ipython3",
   "version": "3.9.7"
  }
 },
 "nbformat": 4,
 "nbformat_minor": 5
}
